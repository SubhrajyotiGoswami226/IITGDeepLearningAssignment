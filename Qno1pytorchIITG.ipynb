{
  "nbformat": 4,
  "nbformat_minor": 0,
  "metadata": {
    "colab": {
      "provenance": [],
      "authorship_tag": "ABX9TyOXoZex4uruKC52a1bp9t4a",
      "include_colab_link": true
    },
    "kernelspec": {
      "name": "python3",
      "display_name": "Python 3"
    },
    "language_info": {
      "name": "python"
    }
  },
  "cells": [
    {
      "cell_type": "markdown",
      "metadata": {
        "id": "view-in-github",
        "colab_type": "text"
      },
      "source": [
        "<a href=\"https://colab.research.google.com/github/SubhrajyotiGoswami226/IITGDeepLearningAssignment/blob/master/Qno1pytorchIITG.ipynb\" target=\"_parent\"><img src=\"https://colab.research.google.com/assets/colab-badge.svg\" alt=\"Open In Colab\"/></a>"
      ]
    },
    {
      "cell_type": "code",
      "execution_count": 2,
      "metadata": {
        "colab": {
          "base_uri": "https://localhost:8080/"
        },
        "id": "etl-Ya1LV4yG",
        "outputId": "1944c0cb-1be8-4363-a0f0-26b81f2398d2"
      },
      "outputs": [
        {
          "output_type": "stream",
          "name": "stdout",
          "text": [
            "\u001b[2K   \u001b[90m━━━━━━━━━━━━━━━━━━━━━━━━━━━━━━━━━━━━━━━━\u001b[0m \u001b[32m363.4/363.4 MB\u001b[0m \u001b[31m4.4 MB/s\u001b[0m eta \u001b[36m0:00:00\u001b[0m\n",
            "\u001b[2K   \u001b[90m━━━━━━━━━━━━━━━━━━━━━━━━━━━━━━━━━━━━━━━━\u001b[0m \u001b[32m13.8/13.8 MB\u001b[0m \u001b[31m106.8 MB/s\u001b[0m eta \u001b[36m0:00:00\u001b[0m\n",
            "\u001b[2K   \u001b[90m━━━━━━━━━━━━━━━━━━━━━━━━━━━━━━━━━━━━━━━━\u001b[0m \u001b[32m24.6/24.6 MB\u001b[0m \u001b[31m80.7 MB/s\u001b[0m eta \u001b[36m0:00:00\u001b[0m\n",
            "\u001b[2K   \u001b[90m━━━━━━━━━━━━━━━━━━━━━━━━━━━━━━━━━━━━━━━━\u001b[0m \u001b[32m883.7/883.7 kB\u001b[0m \u001b[31m55.0 MB/s\u001b[0m eta \u001b[36m0:00:00\u001b[0m\n",
            "\u001b[2K   \u001b[90m━━━━━━━━━━━━━━━━━━━━━━━━━━━━━━━━━━━━━━━━\u001b[0m \u001b[32m664.8/664.8 MB\u001b[0m \u001b[31m2.8 MB/s\u001b[0m eta \u001b[36m0:00:00\u001b[0m\n",
            "\u001b[2K   \u001b[90m━━━━━━━━━━━━━━━━━━━━━━━━━━━━━━━━━━━━━━━━\u001b[0m \u001b[32m211.5/211.5 MB\u001b[0m \u001b[31m5.2 MB/s\u001b[0m eta \u001b[36m0:00:00\u001b[0m\n",
            "\u001b[2K   \u001b[90m━━━━━━━━━━━━━━━━━━━━━━━━━━━━━━━━━━━━━━━━\u001b[0m \u001b[32m56.3/56.3 MB\u001b[0m \u001b[31m15.3 MB/s\u001b[0m eta \u001b[36m0:00:00\u001b[0m\n",
            "\u001b[2K   \u001b[90m━━━━━━━━━━━━━━━━━━━━━━━━━━━━━━━━━━━━━━━━\u001b[0m \u001b[32m127.9/127.9 MB\u001b[0m \u001b[31m7.4 MB/s\u001b[0m eta \u001b[36m0:00:00\u001b[0m\n",
            "\u001b[2K   \u001b[90m━━━━━━━━━━━━━━━━━━━━━━━━━━━━━━━━━━━━━━━━\u001b[0m \u001b[32m207.5/207.5 MB\u001b[0m \u001b[31m5.7 MB/s\u001b[0m eta \u001b[36m0:00:00\u001b[0m\n",
            "\u001b[2K   \u001b[90m━━━━━━━━━━━━━━━━━━━━━━━━━━━━━━━━━━━━━━━━\u001b[0m \u001b[32m21.1/21.1 MB\u001b[0m \u001b[31m83.5 MB/s\u001b[0m eta \u001b[36m0:00:00\u001b[0m\n",
            "\u001b[?25h"
          ]
        }
      ],
      "source": [
        "pip install -q torch torchvision matplotlib\n"
      ]
    },
    {
      "cell_type": "code",
      "source": [
        "import torch, torch.nn as nn, torch.optim as optim\n",
        "from torchvision import datasets, transforms\n",
        "from torch.utils.data import DataLoader\n",
        "import matplotlib.pyplot as plt\n",
        "from pathlib import Path\n",
        "device = \"cuda\" if torch.cuda.is_available() else \"cpu\"\n",
        "print(\"Using\", device)\n"
      ],
      "metadata": {
        "colab": {
          "base_uri": "https://localhost:8080/"
        },
        "id": "MiNedqEpWcG-",
        "outputId": "2469968b-8e17-474b-8815-77de40cab2d2"
      },
      "execution_count": 3,
      "outputs": [
        {
          "output_type": "stream",
          "name": "stdout",
          "text": [
            "Using cpu\n"
          ]
        }
      ]
    },
    {
      "cell_type": "code",
      "source": [
        "# 1.1  Transforms: convert to tensor & flatten (for MLP) or keep 1×28×28 (for CNN)\n",
        "common_tf = transforms.Compose([\n",
        "    transforms.ToTensor(),                       # [0,1]\n",
        "    transforms.Normalize((0.1307,), (0.3081,))   # mean & std of MNIST\n",
        "])\n",
        "\n",
        "train_ds = datasets.MNIST(root=Path.home()/\"data\",\n",
        "                          train=True, download=True, transform=common_tf)\n",
        "test_ds  = datasets.MNIST(root=Path.home()/\"data\",\n",
        "                          train=False, download=True, transform=common_tf)\n",
        "\n",
        "train_loader = DataLoader(train_ds, batch_size=64, shuffle=True)\n",
        "test_loader  = DataLoader(test_ds,  batch_size=1000)\n"
      ],
      "metadata": {
        "colab": {
          "base_uri": "https://localhost:8080/"
        },
        "id": "fbJyd2tdWkPn",
        "outputId": "7d61c3a1-7864-440a-fb75-8416786cf0e3"
      },
      "execution_count": 5,
      "outputs": [
        {
          "output_type": "stream",
          "name": "stderr",
          "text": [
            "100%|██████████| 9.91M/9.91M [00:00<00:00, 18.0MB/s]\n",
            "100%|██████████| 28.9k/28.9k [00:00<00:00, 495kB/s]\n",
            "100%|██████████| 1.65M/1.65M [00:00<00:00, 4.49MB/s]\n",
            "100%|██████████| 4.54k/4.54k [00:00<00:00, 8.74MB/s]\n"
          ]
        }
      ]
    },
    {
      "cell_type": "code",
      "source": [
        "def train_epoch(model, loader, criterion, optimizer):\n",
        "    model.train()\n",
        "    total, correct, loss_sum = 0, 0, 0\n",
        "    for x, y in loader:\n",
        "        x, y = x.to(device), y.to(device)\n",
        "        pred = model(x)\n",
        "        loss = criterion(pred, y)\n",
        "\n",
        "        optimizer.zero_grad()\n",
        "        loss.backward()\n",
        "        optimizer.step()\n",
        "\n",
        "        loss_sum += loss.item() * x.size(0)\n",
        "        correct  += pred.argmax(1).eq(y).sum().item()\n",
        "        total    += x.size(0)\n",
        "\n",
        "    return loss_sum/total, correct/total\n",
        "\n",
        "\n",
        "@torch.no_grad()\n",
        "def evaluate(model, loader, criterion):\n",
        "    model.eval()\n",
        "    total, correct, loss_sum = 0, 0, 0\n",
        "    for x, y in loader:\n",
        "        x, y = x.to(device), y.to(device)\n",
        "        pred = model(x)\n",
        "        loss = criterion(pred, y)\n",
        "\n",
        "        loss_sum += loss.item() * x.size(0)\n",
        "        correct  += pred.argmax(1).eq(y).sum().item()\n",
        "        total    += x.size(0)\n",
        "\n",
        "    return loss_sum/total, correct/total\n"
      ],
      "metadata": {
        "id": "PkrSb_r7WoUi"
      },
      "execution_count": 6,
      "outputs": []
    },
    {
      "cell_type": "code",
      "source": [
        "class MLP(nn.Module):\n",
        "    def __init__(self):\n",
        "        super().__init__()\n",
        "        self.net = nn.Sequential(\n",
        "            nn.Flatten(),              # 28×28 → 784\n",
        "            nn.Linear(784, 256), nn.ReLU(),\n",
        "            nn.Linear(256, 128), nn.ReLU(),\n",
        "            nn.Linear(128, 10)         # logits for 10 classes\n",
        "        )\n",
        "\n",
        "    def forward(self, x):\n",
        "        return self.net(x)\n",
        "\n",
        "mlp = MLP().to(device)\n"
      ],
      "metadata": {
        "id": "c_niHhh0WrJN"
      },
      "execution_count": 7,
      "outputs": []
    },
    {
      "cell_type": "code",
      "source": [
        "criterion = nn.CrossEntropyLoss()\n",
        "optimizer = optim.Adam(mlp.parameters(), lr=1e-3)\n",
        "\n",
        "EPOCHS = 5\n",
        "for ep in range(1, EPOCHS+1):\n",
        "    tr_loss, tr_acc = train_epoch(mlp, train_loader, criterion, optimizer)\n",
        "    te_loss, te_acc = evaluate(mlp, test_loader, criterion)\n",
        "    print(f\"Epoch {ep}: \"\n",
        "          f\"train acc {tr_acc:.4f}  test acc {te_acc:.4f}\")\n"
      ],
      "metadata": {
        "colab": {
          "base_uri": "https://localhost:8080/"
        },
        "id": "oJ1zFwSBWtSP",
        "outputId": "a75772fd-4bd4-4f70-b4b5-29fbdacabf92"
      },
      "execution_count": 8,
      "outputs": [
        {
          "output_type": "stream",
          "name": "stdout",
          "text": [
            "Epoch 1: train acc 0.9293  test acc 0.9667\n",
            "Epoch 2: train acc 0.9701  test acc 0.9723\n",
            "Epoch 3: train acc 0.9798  test acc 0.9737\n",
            "Epoch 4: train acc 0.9841  test acc 0.9686\n",
            "Epoch 5: train acc 0.9869  test acc 0.9796\n"
          ]
        }
      ]
    },
    {
      "cell_type": "code",
      "source": [
        "mlp_test_loss, mlp_test_acc = evaluate(mlp, test_loader, criterion)\n",
        "print(f\"✅ MLP Test Accuracy: {mlp_test_acc * 100:.2f}%\")\n"
      ],
      "metadata": {
        "colab": {
          "base_uri": "https://localhost:8080/"
        },
        "id": "pv3Nt_1YZIOh",
        "outputId": "500a15de-c0b1-457a-9956-0f4dbb7135f7"
      },
      "execution_count": 9,
      "outputs": [
        {
          "output_type": "stream",
          "name": "stdout",
          "text": [
            "✅ MLP Test Accuracy: 97.96%\n"
          ]
        }
      ]
    },
    {
      "cell_type": "code",
      "source": [
        "class SimpleCNN(nn.Module):\n",
        "    def __init__(self):\n",
        "        super().__init__()\n",
        "        self.feature = nn.Sequential(\n",
        "            nn.Conv2d(1, 32, 3, padding=1), nn.ReLU(),\n",
        "            nn.MaxPool2d(2),                # 32×14×14\n",
        "            nn.Conv2d(32, 64, 3, padding=1), nn.ReLU(),\n",
        "            nn.MaxPool2d(2),                # 64×7×7\n",
        "        )\n",
        "        self.classifier = nn.Sequential(\n",
        "            nn.Flatten(),                   # 64·7·7 = 3136\n",
        "            nn.Linear(3136, 256), nn.ReLU(),\n",
        "            nn.Dropout(0.5),\n",
        "            nn.Linear(256, 10)\n",
        "        )\n",
        "\n",
        "    def forward(self, x):\n",
        "        x = self.feature(x)\n",
        "        return self.classifier(x)\n",
        "\n",
        "cnn = SimpleCNN().to(device)\n"
      ],
      "metadata": {
        "id": "pNEDnBOTXJo8"
      },
      "execution_count": 10,
      "outputs": []
    },
    {
      "cell_type": "code",
      "source": [
        "criterion = nn.CrossEntropyLoss()\n",
        "optimizer = optim.Adam(cnn.parameters(), lr=1e-3)\n",
        "\n",
        "EPOCHS = 5\n",
        "for ep in range(1, EPOCHS+1):\n",
        "    tr_loss, tr_acc = train_epoch(cnn, train_loader, criterion, optimizer)\n",
        "    te_loss, te_acc = evaluate(cnn, test_loader, criterion)\n",
        "    print(f\"Epoch {ep}: \"\n",
        "          f\"train acc {tr_acc:.4f}  test acc {te_acc:.4f}\")\n"
      ],
      "metadata": {
        "colab": {
          "base_uri": "https://localhost:8080/"
        },
        "id": "sXH3jUWDXNl2",
        "outputId": "3dde22a2-9ac3-4e9f-f42c-8d2b60497d20"
      },
      "execution_count": 11,
      "outputs": [
        {
          "output_type": "stream",
          "name": "stdout",
          "text": [
            "Epoch 1: train acc 0.9461  test acc 0.9872\n",
            "Epoch 2: train acc 0.9809  test acc 0.9902\n",
            "Epoch 3: train acc 0.9865  test acc 0.9914\n",
            "Epoch 4: train acc 0.9887  test acc 0.9875\n",
            "Epoch 5: train acc 0.9906  test acc 0.9929\n"
          ]
        }
      ]
    },
    {
      "cell_type": "code",
      "source": [
        "cnn_test_loss, cnn_test_acc = evaluate(cnn, test_loader, criterion)\n",
        "print(f\"✅ CNN Test Accuracy: {cnn_test_acc * 100:.2f}%\")\n"
      ],
      "metadata": {
        "colab": {
          "base_uri": "https://localhost:8080/"
        },
        "id": "FNrQageCZL1x",
        "outputId": "79d8479a-e16a-4aca-97e0-563537ab45ce"
      },
      "execution_count": 12,
      "outputs": [
        {
          "output_type": "stream",
          "name": "stdout",
          "text": [
            "✅ CNN Test Accuracy: 99.29%\n"
          ]
        }
      ]
    },
    {
      "cell_type": "code",
      "source": [
        "import random\n",
        "cnn.eval()\n",
        "imgs, labels = next(iter(test_loader))\n",
        "idx = random.randrange(len(imgs))\n",
        "img = imgs[idx].unsqueeze(0).to(device)\n",
        "\n",
        "with torch.no_grad():\n",
        "    pred = cnn(img).argmax(1).item()\n",
        "\n",
        "plt.imshow(img.cpu().squeeze(), cmap=\"gray\")\n",
        "plt.title(f\"Predicted {pred}, True {labels[idx].item()}\")\n",
        "plt.axis(\"off\")\n",
        "plt.show()\n"
      ],
      "metadata": {
        "id": "RI1MzxYMZS60",
        "outputId": "a2eaab3f-9c27-4d26-8f53-deae064b562c",
        "colab": {
          "base_uri": "https://localhost:8080/",
          "height": 428
        }
      },
      "execution_count": 15,
      "outputs": [
        {
          "output_type": "display_data",
          "data": {
            "text/plain": [
              "<Figure size 640x480 with 1 Axes>"
            ],
            "image/png": "[encoded data removed]"
          },
          "metadata": {}
        }
      ]
    }
  ]
}